{
 "cells": [
  {
   "cell_type": "code",
   "execution_count": 1,
   "id": "144fd68d-bcba-46a9-88fe-ee130d5457de",
   "metadata": {},
   "outputs": [],
   "source": [
    "from sklearn.datasets import make_blobs"
   ]
  },
  {
   "cell_type": "code",
   "execution_count": 2,
   "id": "8ff8c7ec-baa2-43f3-8c80-76c6751a5ec5",
   "metadata": {},
   "outputs": [],
   "source": [
    "from sklearn.ensemble import RandomForestClassifier"
   ]
  },
  {
   "cell_type": "code",
   "execution_count": 3,
   "id": "bd76b006-3abc-4647-b6f3-395f029ef688",
   "metadata": {},
   "outputs": [],
   "source": [
    "import pandas as pd\n",
    "import numpy as np\n",
    "import matplotlib.pyplot as plt"
   ]
  },
  {
   "cell_type": "code",
   "execution_count": 4,
   "id": "7cc48864-e131-46f6-b4fe-b7cd03f86887",
   "metadata": {},
   "outputs": [],
   "source": [
    "import warnings\n",
    "warnings.filterwarnings(\"ignore\")"
   ]
  },
  {
   "cell_type": "code",
   "execution_count": 25,
   "id": "c930fd39-d479-4350-8698-f3cd4ad05b39",
   "metadata": {},
   "outputs": [],
   "source": [
    "data = make_blobs(n_samples=1000, n_features=3, centers=[[2, 3], [5, 6]])"
   ]
  },
  {
   "cell_type": "code",
   "execution_count": 26,
   "id": "cdb3712e-aec9-400e-a3b2-33bcff512a6c",
   "metadata": {
    "scrolled": true
   },
   "outputs": [
    {
     "data": {
      "text/plain": [
       "(array([[5.88172547, 5.98164883],\n",
       "        [0.2088923 , 4.27112423],\n",
       "        [3.27546523, 7.08119573],\n",
       "        ...,\n",
       "        [1.38639671, 1.75872233],\n",
       "        [1.27727758, 2.45787517],\n",
       "        [0.70058872, 2.63514412]]),\n",
       " array([1, 0, 1, 0, 0, 0, 1, 1, 1, 0, 1, 1, 1, 0, 1, 0, 1, 1, 0, 0, 0, 1,\n",
       "        0, 0, 0, 0, 1, 1, 1, 1, 1, 0, 1, 1, 1, 1, 0, 0, 1, 1, 0, 0, 0, 1,\n",
       "        1, 0, 1, 0, 0, 1, 0, 1, 1, 1, 0, 1, 1, 1, 0, 0, 1, 0, 1, 1, 1, 1,\n",
       "        0, 1, 1, 1, 0, 1, 1, 1, 1, 1, 0, 1, 0, 1, 0, 0, 0, 1, 0, 0, 0, 1,\n",
       "        0, 0, 1, 0, 0, 1, 1, 0, 0, 1, 0, 0, 1, 1, 1, 0, 0, 1, 0, 0, 1, 0,\n",
       "        0, 1, 0, 1, 1, 0, 1, 1, 1, 0, 1, 1, 0, 1, 1, 0, 1, 1, 0, 1, 1, 0,\n",
       "        1, 0, 0, 1, 1, 1, 1, 0, 1, 0, 0, 0, 1, 1, 0, 1, 1, 0, 1, 0, 0, 1,\n",
       "        0, 1, 1, 0, 1, 0, 1, 0, 1, 1, 1, 0, 0, 0, 0, 1, 0, 1, 0, 1, 0, 0,\n",
       "        0, 1, 1, 1, 0, 0, 1, 0, 1, 1, 1, 0, 0, 0, 0, 0, 0, 1, 0, 0, 0, 1,\n",
       "        1, 0, 1, 0, 1, 0, 1, 0, 0, 1, 0, 1, 0, 1, 1, 1, 0, 0, 0, 1, 1, 0,\n",
       "        1, 1, 1, 0, 1, 1, 1, 1, 0, 0, 1, 0, 0, 0, 1, 0, 0, 1, 1, 0, 0, 0,\n",
       "        1, 0, 0, 1, 0, 1, 1, 1, 1, 0, 1, 0, 1, 0, 0, 0, 1, 0, 1, 1, 0, 0,\n",
       "        1, 1, 1, 1, 0, 1, 0, 1, 0, 1, 1, 1, 1, 0, 1, 1, 0, 0, 0, 1, 1, 0,\n",
       "        1, 1, 1, 1, 0, 0, 1, 1, 0, 0, 0, 1, 0, 0, 1, 1, 1, 0, 1, 1, 1, 0,\n",
       "        1, 0, 1, 1, 0, 1, 1, 0, 0, 1, 0, 0, 0, 1, 1, 1, 0, 0, 1, 1, 0, 0,\n",
       "        0, 0, 1, 1, 1, 0, 1, 0, 1, 1, 1, 0, 0, 0, 0, 1, 0, 1, 1, 0, 1, 1,\n",
       "        1, 0, 0, 1, 1, 0, 1, 0, 0, 1, 0, 0, 0, 0, 1, 0, 0, 0, 0, 1, 0, 1,\n",
       "        1, 0, 0, 1, 1, 1, 0, 0, 1, 1, 1, 0, 0, 1, 0, 0, 0, 0, 1, 1, 1, 0,\n",
       "        0, 0, 1, 1, 1, 1, 0, 0, 0, 1, 1, 1, 1, 0, 0, 0, 1, 0, 1, 0, 1, 0,\n",
       "        1, 1, 1, 0, 0, 0, 1, 0, 1, 0, 1, 0, 1, 0, 0, 0, 1, 0, 0, 1, 0, 1,\n",
       "        1, 1, 1, 0, 1, 1, 1, 0, 0, 1, 1, 1, 0, 0, 1, 0, 1, 0, 0, 1, 0, 0,\n",
       "        0, 0, 1, 0, 1, 0, 0, 0, 1, 1, 1, 0, 1, 1, 0, 0, 1, 1, 1, 0, 1, 1,\n",
       "        0, 1, 0, 0, 0, 1, 1, 0, 0, 0, 0, 0, 1, 1, 1, 1, 1, 1, 1, 1, 0, 1,\n",
       "        1, 0, 0, 1, 0, 0, 1, 0, 0, 1, 0, 1, 0, 0, 0, 0, 0, 1, 0, 0, 1, 1,\n",
       "        0, 1, 1, 1, 1, 0, 0, 0, 1, 1, 0, 0, 1, 0, 1, 0, 0, 0, 1, 0, 0, 0,\n",
       "        0, 1, 0, 0, 0, 0, 1, 0, 0, 1, 0, 0, 0, 1, 1, 1, 1, 0, 1, 0, 1, 0,\n",
       "        0, 0, 0, 0, 1, 1, 0, 0, 0, 1, 0, 1, 1, 1, 0, 0, 0, 0, 0, 0, 1, 0,\n",
       "        1, 0, 1, 1, 1, 0, 1, 0, 1, 1, 1, 0, 1, 0, 0, 1, 0, 1, 0, 1, 1, 1,\n",
       "        1, 1, 0, 0, 1, 1, 1, 0, 0, 0, 1, 0, 0, 1, 1, 1, 0, 0, 0, 1, 0, 0,\n",
       "        0, 0, 1, 1, 0, 1, 0, 0, 1, 0, 1, 0, 0, 1, 1, 0, 0, 0, 1, 0, 0, 0,\n",
       "        1, 0, 0, 1, 0, 1, 0, 1, 1, 0, 0, 0, 1, 0, 0, 1, 1, 0, 1, 0, 0, 1,\n",
       "        1, 0, 0, 0, 1, 1, 1, 0, 0, 0, 1, 1, 0, 0, 1, 1, 1, 1, 0, 1, 0, 0,\n",
       "        1, 1, 1, 1, 0, 0, 0, 1, 1, 1, 0, 1, 1, 0, 0, 0, 1, 0, 1, 1, 0, 0,\n",
       "        1, 0, 1, 0, 0, 0, 1, 1, 0, 1, 1, 1, 1, 0, 1, 1, 1, 1, 1, 0, 0, 1,\n",
       "        1, 1, 0, 0, 0, 1, 1, 0, 0, 1, 1, 1, 1, 0, 1, 1, 0, 0, 0, 0, 1, 0,\n",
       "        0, 0, 1, 0, 0, 1, 0, 0, 0, 0, 1, 0, 1, 1, 1, 0, 1, 1, 1, 1, 1, 1,\n",
       "        0, 1, 0, 0, 0, 1, 0, 0, 1, 0, 1, 0, 1, 1, 1, 0, 0, 0, 1, 0, 0, 0,\n",
       "        1, 1, 1, 1, 1, 1, 1, 0, 1, 1, 0, 0, 1, 0, 0, 1, 1, 1, 1, 0, 1, 1,\n",
       "        0, 0, 0, 1, 0, 0, 1, 1, 1, 1, 0, 0, 1, 0, 1, 1, 0, 1, 0, 1, 0, 1,\n",
       "        0, 0, 1, 1, 0, 0, 1, 0, 1, 0, 1, 0, 0, 0, 0, 1, 0, 0, 0, 1, 1, 0,\n",
       "        1, 1, 1, 0, 1, 1, 0, 0, 0, 0, 0, 0, 0, 0, 1, 1, 0, 1, 1, 1, 0, 1,\n",
       "        1, 0, 1, 1, 1, 1, 1, 1, 1, 1, 0, 0, 0, 0, 0, 1, 0, 1, 0, 1, 0, 0,\n",
       "        1, 1, 0, 1, 0, 0, 0, 0, 0, 1, 1, 1, 0, 1, 1, 0, 1, 0, 1, 1, 1, 1,\n",
       "        0, 1, 1, 0, 0, 0, 0, 0, 1, 0, 1, 0, 1, 1, 0, 0, 0, 1, 0, 0, 0, 1,\n",
       "        1, 0, 0, 0, 1, 0, 0, 1, 0, 0, 0, 0, 1, 1, 0, 1, 0, 1, 0, 1, 1, 1,\n",
       "        1, 1, 1, 0, 1, 0, 1, 0, 0, 0]))"
      ]
     },
     "execution_count": 26,
     "metadata": {},
     "output_type": "execute_result"
    }
   ],
   "source": [
    "data"
   ]
  },
  {
   "cell_type": "code",
   "execution_count": 27,
   "id": "fa1e586e-51a1-422b-bc8a-d1d515c9f612",
   "metadata": {},
   "outputs": [
    {
     "data": {
      "text/plain": [
       "array([[5.88172547, 5.98164883],\n",
       "       [0.2088923 , 4.27112423],\n",
       "       [3.27546523, 7.08119573],\n",
       "       ...,\n",
       "       [1.38639671, 1.75872233],\n",
       "       [1.27727758, 2.45787517],\n",
       "       [0.70058872, 2.63514412]])"
      ]
     },
     "execution_count": 27,
     "metadata": {},
     "output_type": "execute_result"
    }
   ],
   "source": [
    "data[0]"
   ]
  },
  {
   "cell_type": "code",
   "execution_count": 28,
   "id": "1320bdd1-9fb4-4e0a-86ad-13fbe8979242",
   "metadata": {
    "scrolled": true
   },
   "outputs": [
    {
     "data": {
      "text/plain": [
       "array([1, 0, 1, 0, 0, 0, 1, 1, 1, 0, 1, 1, 1, 0, 1, 0, 1, 1, 0, 0, 0, 1,\n",
       "       0, 0, 0, 0, 1, 1, 1, 1, 1, 0, 1, 1, 1, 1, 0, 0, 1, 1, 0, 0, 0, 1,\n",
       "       1, 0, 1, 0, 0, 1, 0, 1, 1, 1, 0, 1, 1, 1, 0, 0, 1, 0, 1, 1, 1, 1,\n",
       "       0, 1, 1, 1, 0, 1, 1, 1, 1, 1, 0, 1, 0, 1, 0, 0, 0, 1, 0, 0, 0, 1,\n",
       "       0, 0, 1, 0, 0, 1, 1, 0, 0, 1, 0, 0, 1, 1, 1, 0, 0, 1, 0, 0, 1, 0,\n",
       "       0, 1, 0, 1, 1, 0, 1, 1, 1, 0, 1, 1, 0, 1, 1, 0, 1, 1, 0, 1, 1, 0,\n",
       "       1, 0, 0, 1, 1, 1, 1, 0, 1, 0, 0, 0, 1, 1, 0, 1, 1, 0, 1, 0, 0, 1,\n",
       "       0, 1, 1, 0, 1, 0, 1, 0, 1, 1, 1, 0, 0, 0, 0, 1, 0, 1, 0, 1, 0, 0,\n",
       "       0, 1, 1, 1, 0, 0, 1, 0, 1, 1, 1, 0, 0, 0, 0, 0, 0, 1, 0, 0, 0, 1,\n",
       "       1, 0, 1, 0, 1, 0, 1, 0, 0, 1, 0, 1, 0, 1, 1, 1, 0, 0, 0, 1, 1, 0,\n",
       "       1, 1, 1, 0, 1, 1, 1, 1, 0, 0, 1, 0, 0, 0, 1, 0, 0, 1, 1, 0, 0, 0,\n",
       "       1, 0, 0, 1, 0, 1, 1, 1, 1, 0, 1, 0, 1, 0, 0, 0, 1, 0, 1, 1, 0, 0,\n",
       "       1, 1, 1, 1, 0, 1, 0, 1, 0, 1, 1, 1, 1, 0, 1, 1, 0, 0, 0, 1, 1, 0,\n",
       "       1, 1, 1, 1, 0, 0, 1, 1, 0, 0, 0, 1, 0, 0, 1, 1, 1, 0, 1, 1, 1, 0,\n",
       "       1, 0, 1, 1, 0, 1, 1, 0, 0, 1, 0, 0, 0, 1, 1, 1, 0, 0, 1, 1, 0, 0,\n",
       "       0, 0, 1, 1, 1, 0, 1, 0, 1, 1, 1, 0, 0, 0, 0, 1, 0, 1, 1, 0, 1, 1,\n",
       "       1, 0, 0, 1, 1, 0, 1, 0, 0, 1, 0, 0, 0, 0, 1, 0, 0, 0, 0, 1, 0, 1,\n",
       "       1, 0, 0, 1, 1, 1, 0, 0, 1, 1, 1, 0, 0, 1, 0, 0, 0, 0, 1, 1, 1, 0,\n",
       "       0, 0, 1, 1, 1, 1, 0, 0, 0, 1, 1, 1, 1, 0, 0, 0, 1, 0, 1, 0, 1, 0,\n",
       "       1, 1, 1, 0, 0, 0, 1, 0, 1, 0, 1, 0, 1, 0, 0, 0, 1, 0, 0, 1, 0, 1,\n",
       "       1, 1, 1, 0, 1, 1, 1, 0, 0, 1, 1, 1, 0, 0, 1, 0, 1, 0, 0, 1, 0, 0,\n",
       "       0, 0, 1, 0, 1, 0, 0, 0, 1, 1, 1, 0, 1, 1, 0, 0, 1, 1, 1, 0, 1, 1,\n",
       "       0, 1, 0, 0, 0, 1, 1, 0, 0, 0, 0, 0, 1, 1, 1, 1, 1, 1, 1, 1, 0, 1,\n",
       "       1, 0, 0, 1, 0, 0, 1, 0, 0, 1, 0, 1, 0, 0, 0, 0, 0, 1, 0, 0, 1, 1,\n",
       "       0, 1, 1, 1, 1, 0, 0, 0, 1, 1, 0, 0, 1, 0, 1, 0, 0, 0, 1, 0, 0, 0,\n",
       "       0, 1, 0, 0, 0, 0, 1, 0, 0, 1, 0, 0, 0, 1, 1, 1, 1, 0, 1, 0, 1, 0,\n",
       "       0, 0, 0, 0, 1, 1, 0, 0, 0, 1, 0, 1, 1, 1, 0, 0, 0, 0, 0, 0, 1, 0,\n",
       "       1, 0, 1, 1, 1, 0, 1, 0, 1, 1, 1, 0, 1, 0, 0, 1, 0, 1, 0, 1, 1, 1,\n",
       "       1, 1, 0, 0, 1, 1, 1, 0, 0, 0, 1, 0, 0, 1, 1, 1, 0, 0, 0, 1, 0, 0,\n",
       "       0, 0, 1, 1, 0, 1, 0, 0, 1, 0, 1, 0, 0, 1, 1, 0, 0, 0, 1, 0, 0, 0,\n",
       "       1, 0, 0, 1, 0, 1, 0, 1, 1, 0, 0, 0, 1, 0, 0, 1, 1, 0, 1, 0, 0, 1,\n",
       "       1, 0, 0, 0, 1, 1, 1, 0, 0, 0, 1, 1, 0, 0, 1, 1, 1, 1, 0, 1, 0, 0,\n",
       "       1, 1, 1, 1, 0, 0, 0, 1, 1, 1, 0, 1, 1, 0, 0, 0, 1, 0, 1, 1, 0, 0,\n",
       "       1, 0, 1, 0, 0, 0, 1, 1, 0, 1, 1, 1, 1, 0, 1, 1, 1, 1, 1, 0, 0, 1,\n",
       "       1, 1, 0, 0, 0, 1, 1, 0, 0, 1, 1, 1, 1, 0, 1, 1, 0, 0, 0, 0, 1, 0,\n",
       "       0, 0, 1, 0, 0, 1, 0, 0, 0, 0, 1, 0, 1, 1, 1, 0, 1, 1, 1, 1, 1, 1,\n",
       "       0, 1, 0, 0, 0, 1, 0, 0, 1, 0, 1, 0, 1, 1, 1, 0, 0, 0, 1, 0, 0, 0,\n",
       "       1, 1, 1, 1, 1, 1, 1, 0, 1, 1, 0, 0, 1, 0, 0, 1, 1, 1, 1, 0, 1, 1,\n",
       "       0, 0, 0, 1, 0, 0, 1, 1, 1, 1, 0, 0, 1, 0, 1, 1, 0, 1, 0, 1, 0, 1,\n",
       "       0, 0, 1, 1, 0, 0, 1, 0, 1, 0, 1, 0, 0, 0, 0, 1, 0, 0, 0, 1, 1, 0,\n",
       "       1, 1, 1, 0, 1, 1, 0, 0, 0, 0, 0, 0, 0, 0, 1, 1, 0, 1, 1, 1, 0, 1,\n",
       "       1, 0, 1, 1, 1, 1, 1, 1, 1, 1, 0, 0, 0, 0, 0, 1, 0, 1, 0, 1, 0, 0,\n",
       "       1, 1, 0, 1, 0, 0, 0, 0, 0, 1, 1, 1, 0, 1, 1, 0, 1, 0, 1, 1, 1, 1,\n",
       "       0, 1, 1, 0, 0, 0, 0, 0, 1, 0, 1, 0, 1, 1, 0, 0, 0, 1, 0, 0, 0, 1,\n",
       "       1, 0, 0, 0, 1, 0, 0, 1, 0, 0, 0, 0, 1, 1, 0, 1, 0, 1, 0, 1, 1, 1,\n",
       "       1, 1, 1, 0, 1, 0, 1, 0, 0, 0])"
      ]
     },
     "execution_count": 28,
     "metadata": {},
     "output_type": "execute_result"
    }
   ],
   "source": [
    "data[1]"
   ]
  },
  {
   "cell_type": "code",
   "execution_count": 29,
   "id": "9c95d42d-2350-4f68-a7b3-3e2000ce63db",
   "metadata": {},
   "outputs": [],
   "source": [
    "X = data[0]\n",
    "y = data[1]"
   ]
  },
  {
   "cell_type": "code",
   "execution_count": 30,
   "id": "e4671748-1b17-400f-a9e0-380b62317246",
   "metadata": {},
   "outputs": [
    {
     "data": {
      "text/html": [
       "<div>\n",
       "<style scoped>\n",
       "    .dataframe tbody tr th:only-of-type {\n",
       "        vertical-align: middle;\n",
       "    }\n",
       "\n",
       "    .dataframe tbody tr th {\n",
       "        vertical-align: top;\n",
       "    }\n",
       "\n",
       "    .dataframe thead th {\n",
       "        text-align: right;\n",
       "    }\n",
       "</style>\n",
       "<table border=\"1\" class=\"dataframe\">\n",
       "  <thead>\n",
       "    <tr style=\"text-align: right;\">\n",
       "      <th></th>\n",
       "      <th>Col_1</th>\n",
       "      <th>Col_2</th>\n",
       "      <th>Target</th>\n",
       "    </tr>\n",
       "  </thead>\n",
       "  <tbody>\n",
       "    <tr>\n",
       "      <th>0</th>\n",
       "      <td>5.881725</td>\n",
       "      <td>5.981649</td>\n",
       "      <td>1</td>\n",
       "    </tr>\n",
       "    <tr>\n",
       "      <th>1</th>\n",
       "      <td>0.208892</td>\n",
       "      <td>4.271124</td>\n",
       "      <td>0</td>\n",
       "    </tr>\n",
       "    <tr>\n",
       "      <th>2</th>\n",
       "      <td>3.275465</td>\n",
       "      <td>7.081196</td>\n",
       "      <td>1</td>\n",
       "    </tr>\n",
       "    <tr>\n",
       "      <th>3</th>\n",
       "      <td>2.283675</td>\n",
       "      <td>3.068540</td>\n",
       "      <td>0</td>\n",
       "    </tr>\n",
       "    <tr>\n",
       "      <th>4</th>\n",
       "      <td>2.019202</td>\n",
       "      <td>4.572316</td>\n",
       "      <td>0</td>\n",
       "    </tr>\n",
       "  </tbody>\n",
       "</table>\n",
       "</div>"
      ],
      "text/plain": [
       "      Col_1     Col_2  Target\n",
       "0  5.881725  5.981649       1\n",
       "1  0.208892  4.271124       0\n",
       "2  3.275465  7.081196       1\n",
       "3  2.283675  3.068540       0\n",
       "4  2.019202  4.572316       0"
      ]
     },
     "execution_count": 30,
     "metadata": {},
     "output_type": "execute_result"
    }
   ],
   "source": [
    "df = pd.DataFrame(X, columns= [\"Col_1\", \"Col_2\"])\n",
    "df[\"Target\"] = y\n",
    "df.head()"
   ]
  },
  {
   "cell_type": "code",
   "execution_count": 31,
   "id": "09f19b45-5e5b-4622-9c3e-58fa7287375b",
   "metadata": {},
   "outputs": [
    {
     "data": {
      "text/plain": [
       "(1000, 3)"
      ]
     },
     "execution_count": 31,
     "metadata": {},
     "output_type": "execute_result"
    }
   ],
   "source": [
    "df.shape"
   ]
  },
  {
   "cell_type": "code",
   "execution_count": 52,
   "id": "31e6ad8f-ce21-4439-ac9e-84d1eaf4e7d0",
   "metadata": {},
   "outputs": [
    {
     "data": {
      "image/png": "[encoded data removed]",
      "text/plain": [
       "<Figure size 500x400 with 1 Axes>"
      ]
     },
     "metadata": {},
     "output_type": "display_data"
    }
   ],
   "source": [
    "%matplotlib inline\n",
    "plt.figure(figsize=(5,4))\n",
    "plt.title(\"Col_1 vs Col_2\")\n",
    "plt.xlabel(\"y=0\")\n",
    "plt.ylabel(\"y=1\")\n",
    "plt.scatter(X[y==0, 0], X[y==0, 1], color=\"red\", label=\"y=0\")\n",
    "plt.scatter(X[y==1, 0], X[y==1, 1], color=\"blue\", label=\"y=1\")\n",
    "plt.scatter([2,5], [3,6], color=\"black\", marker= \"*\", label=\"Center\")\n",
    "plt.legend()\n",
    "plt.show()"
   ]
  },
  {
   "cell_type": "code",
   "execution_count": 34,
   "id": "f6c3db66-e677-4a21-ba2b-939bfd8ff28c",
   "metadata": {},
   "outputs": [],
   "source": [
    "from sklearn.model_selection import train_test_split"
   ]
  },
  {
   "cell_type": "code",
   "execution_count": 35,
   "id": "51aa4f54-69d5-4992-8b52-ad498d6100fd",
   "metadata": {},
   "outputs": [],
   "source": [
    "X_tr, X_te, y_tr, y_te = train_test_split(X, y, train_size=0.75, random_state=45)"
   ]
  },
  {
   "cell_type": "code",
   "execution_count": 36,
   "id": "8cadc98d-8b7a-463b-88e0-162a847e7658",
   "metadata": {},
   "outputs": [],
   "source": [
    "model = RandomForestClassifier(n_estimators=20,max_depth=2)"
   ]
  },
  {
   "cell_type": "code",
   "execution_count": 37,
   "id": "a276a51b-982a-4157-b052-274a21e9e286",
   "metadata": {},
   "outputs": [
    {
     "data": {
      "text/html": [
       "<style>#sk-container-id-1 {color: black;}#sk-container-id-1 pre{padding: 0;}#sk-container-id-1 div.sk-toggleable {background-color: white;}#sk-container-id-1 label.sk-toggleable__label {cursor: pointer;display: block;width: 100%;margin-bottom: 0;padding: 0.3em;box-sizing: border-box;text-align: center;}#sk-container-id-1 label.sk-toggleable__label-arrow:before {content: \"▸\";float: left;margin-right: 0.25em;color: #696969;}#sk-container-id-1 label.sk-toggleable__label-arrow:hover:before {color: black;}#sk-container-id-1 div.sk-estimator:hover label.sk-toggleable__label-arrow:before {color: black;}#sk-container-id-1 div.sk-toggleable__content {max-height: 0;max-width: 0;overflow: hidden;text-align: left;background-color: #f0f8ff;}#sk-container-id-1 div.sk-toggleable__content pre {margin: 0.2em;color: black;border-radius: 0.25em;background-color: #f0f8ff;}#sk-container-id-1 input.sk-toggleable__control:checked~div.sk-toggleable__content {max-height: 200px;max-width: 100%;overflow: auto;}#sk-container-id-1 input.sk-toggleable__control:checked~label.sk-toggleable__label-arrow:before {content: \"▾\";}#sk-container-id-1 div.sk-estimator input.sk-toggleable__control:checked~label.sk-toggleable__label {background-color: #d4ebff;}#sk-container-id-1 div.sk-label input.sk-toggleable__control:checked~label.sk-toggleable__label {background-color: #d4ebff;}#sk-container-id-1 input.sk-hidden--visually {border: 0;clip: rect(1px 1px 1px 1px);clip: rect(1px, 1px, 1px, 1px);height: 1px;margin: -1px;overflow: hidden;padding: 0;position: absolute;width: 1px;}#sk-container-id-1 div.sk-estimator {font-family: monospace;background-color: #f0f8ff;border: 1px dotted black;border-radius: 0.25em;box-sizing: border-box;margin-bottom: 0.5em;}#sk-container-id-1 div.sk-estimator:hover {background-color: #d4ebff;}#sk-container-id-1 div.sk-parallel-item::after {content: \"\";width: 100%;border-bottom: 1px solid gray;flex-grow: 1;}#sk-container-id-1 div.sk-label:hover label.sk-toggleable__label {background-color: #d4ebff;}#sk-container-id-1 div.sk-serial::before {content: \"\";position: absolute;border-left: 1px solid gray;box-sizing: border-box;top: 0;bottom: 0;left: 50%;z-index: 0;}#sk-container-id-1 div.sk-serial {display: flex;flex-direction: column;align-items: center;background-color: white;padding-right: 0.2em;padding-left: 0.2em;position: relative;}#sk-container-id-1 div.sk-item {position: relative;z-index: 1;}#sk-container-id-1 div.sk-parallel {display: flex;align-items: stretch;justify-content: center;background-color: white;position: relative;}#sk-container-id-1 div.sk-item::before, #sk-container-id-1 div.sk-parallel-item::before {content: \"\";position: absolute;border-left: 1px solid gray;box-sizing: border-box;top: 0;bottom: 0;left: 50%;z-index: -1;}#sk-container-id-1 div.sk-parallel-item {display: flex;flex-direction: column;z-index: 1;position: relative;background-color: white;}#sk-container-id-1 div.sk-parallel-item:first-child::after {align-self: flex-end;width: 50%;}#sk-container-id-1 div.sk-parallel-item:last-child::after {align-self: flex-start;width: 50%;}#sk-container-id-1 div.sk-parallel-item:only-child::after {width: 0;}#sk-container-id-1 div.sk-dashed-wrapped {border: 1px dashed gray;margin: 0 0.4em 0.5em 0.4em;box-sizing: border-box;padding-bottom: 0.4em;background-color: white;}#sk-container-id-1 div.sk-label label {font-family: monospace;font-weight: bold;display: inline-block;line-height: 1.2em;}#sk-container-id-1 div.sk-label-container {text-align: center;}#sk-container-id-1 div.sk-container {/* jupyter's `normalize.less` sets `[hidden] { display: none; }` but bootstrap.min.css set `[hidden] { display: none !important; }` so we also need the `!important` here to be able to override the default hidden behavior on the sphinx rendered scikit-learn.org. See: https://github.com/scikit-learn/scikit-learn/issues/21755 */display: inline-block !important;position: relative;}#sk-container-id-1 div.sk-text-repr-fallback {display: none;}</style><div id=\"sk-container-id-1\" class=\"sk-top-container\"><div class=\"sk-text-repr-fallback\"><pre>RandomForestClassifier(max_depth=2, n_estimators=20)</pre><b>In a Jupyter environment, please rerun this cell to show the HTML representation or trust the notebook. <br />On GitHub, the HTML representation is unable to render, please try loading this page with nbviewer.org.</b></div><div class=\"sk-container\" hidden><div class=\"sk-item\"><div class=\"sk-estimator sk-toggleable\"><input class=\"sk-toggleable__control sk-hidden--visually\" id=\"sk-estimator-id-1\" type=\"checkbox\" checked><label for=\"sk-estimator-id-1\" class=\"sk-toggleable__label sk-toggleable__label-arrow\">RandomForestClassifier</label><div class=\"sk-toggleable__content\"><pre>RandomForestClassifier(max_depth=2, n_estimators=20)</pre></div></div></div></div></div>"
      ],
      "text/plain": [
       "RandomForestClassifier(max_depth=2, n_estimators=20)"
      ]
     },
     "execution_count": 37,
     "metadata": {},
     "output_type": "execute_result"
    }
   ],
   "source": [
    "model.fit(X_tr, y_tr)"
   ]
  },
  {
   "cell_type": "code",
   "execution_count": 38,
   "id": "8a11df5d-10d5-40da-b414-a09f8c4f4b34",
   "metadata": {},
   "outputs": [],
   "source": [
    "y_pred = model.predict(X_te)"
   ]
  },
  {
   "cell_type": "code",
   "execution_count": 39,
   "id": "4b2c4f62-a8f5-4fb9-922f-fa2922402db4",
   "metadata": {
    "scrolled": true
   },
   "outputs": [
    {
     "data": {
      "text/plain": [
       "array([1, 0, 0, 0, 1, 0, 0, 0, 0, 0, 0, 1, 0, 1, 0, 1, 1, 0, 0, 0, 0, 1,\n",
       "       1, 0, 0, 0, 0, 0, 1, 1, 1, 1, 1, 1, 0, 1, 1, 1, 0, 1, 0, 0, 0, 0,\n",
       "       1, 0, 0, 1, 1, 0, 1, 0, 0, 1, 1, 1, 0, 0, 0, 0, 0, 0, 0, 1, 1, 1,\n",
       "       0, 0, 1, 1, 1, 1, 0, 1, 0, 1, 0, 0, 1, 0, 1, 0, 1, 1, 1, 0, 0, 0,\n",
       "       0, 0, 1, 0, 1, 0, 1, 1, 0, 1, 0, 1, 1, 1, 1, 0, 0, 1, 0, 1, 1, 0,\n",
       "       1, 1, 0, 0, 1, 1, 0, 0, 0, 1, 0, 0, 0, 1, 0, 1, 0, 1, 1, 1, 1, 1,\n",
       "       1, 1, 1, 1, 1, 1, 0, 1, 0, 1, 1, 1, 1, 0, 0, 1, 0, 0, 1, 0, 0, 0,\n",
       "       1, 1, 0, 0, 0, 0, 0, 0, 1, 1, 1, 1, 0, 1, 0, 1, 1, 0, 0, 1, 1, 0,\n",
       "       1, 1, 1, 0, 1, 0, 0, 1, 0, 1, 0, 0, 1, 1, 1, 1, 1, 0, 0, 0, 1, 1,\n",
       "       1, 1, 1, 0, 1, 1, 1, 0, 0, 1, 0, 1, 1, 1, 0, 1, 0, 1, 0, 1, 0, 0,\n",
       "       0, 1, 0, 0, 0, 1, 0, 0, 0, 0, 1, 0, 1, 0, 0, 0, 0, 0, 0, 1, 1, 0,\n",
       "       1, 1, 0, 0, 1, 1, 0, 1])"
      ]
     },
     "execution_count": 39,
     "metadata": {},
     "output_type": "execute_result"
    }
   ],
   "source": [
    "y_pred"
   ]
  },
  {
   "cell_type": "code",
   "execution_count": 40,
   "id": "8228a16e-5efd-4a68-a94c-c377c4423280",
   "metadata": {},
   "outputs": [
    {
     "data": {
      "text/plain": [
       "array([0])"
      ]
     },
     "execution_count": 40,
     "metadata": {},
     "output_type": "execute_result"
    }
   ],
   "source": [
    "model.predict([[0.208892, 4.271124]])"
   ]
  },
  {
   "cell_type": "code",
   "execution_count": 41,
   "id": "d46874a1-8fae-4c69-bb75-b93513106a2b",
   "metadata": {
    "scrolled": true
   },
   "outputs": [
    {
     "data": {
      "text/plain": [
       "array([[ 5.89264941,  7.2540386 ],\n",
       "       [ 3.30633028,  4.29069038],\n",
       "       [ 1.17758248,  2.25015178],\n",
       "       [ 1.85099854,  1.604318  ],\n",
       "       [ 4.62610278,  6.65111701],\n",
       "       [ 1.82671695,  4.055594  ],\n",
       "       [ 2.0725742 ,  3.27307237],\n",
       "       [ 1.28554182,  1.98760944],\n",
       "       [ 7.18401376,  3.42938483],\n",
       "       [ 2.11065703,  2.01282794],\n",
       "       [ 0.23382187,  3.25641581],\n",
       "       [ 5.07922765,  5.61805845],\n",
       "       [ 1.89852804,  4.55397037],\n",
       "       [ 5.02177029,  5.15036065],\n",
       "       [ 1.56591205,  4.31146375],\n",
       "       [ 4.32122761,  7.53631466],\n",
       "       [ 5.14908046,  7.09813571],\n",
       "       [ 2.03398032,  2.84783433],\n",
       "       [ 0.66207558,  4.2358782 ],\n",
       "       [ 1.54317936,  3.55345527],\n",
       "       [ 1.10036696,  3.44032055],\n",
       "       [ 4.14874418,  5.80908194],\n",
       "       [ 5.5865138 ,  7.94596258],\n",
       "       [ 2.33501597,  3.12938554],\n",
       "       [ 0.82900235,  2.73476153],\n",
       "       [-0.49727355,  3.16106504],\n",
       "       [ 2.392026  ,  4.04952821],\n",
       "       [ 2.51380171,  3.91973583],\n",
       "       [ 5.36506121,  6.33358706],\n",
       "       [ 4.36492306,  7.77521089],\n",
       "       [ 5.39611816,  3.70975358],\n",
       "       [ 5.67051849,  4.97165089],\n",
       "       [ 6.49064579,  5.47492932],\n",
       "       [ 5.5546043 ,  6.35722751],\n",
       "       [ 2.2618724 ,  3.60472946],\n",
       "       [ 5.47891417,  5.18257854],\n",
       "       [ 6.22696465,  6.37113207],\n",
       "       [ 2.6228041 ,  6.66209557],\n",
       "       [ 2.84876648,  0.59671372],\n",
       "       [ 5.9980295 ,  6.46348955],\n",
       "       [ 1.02275066,  2.23327652],\n",
       "       [ 0.9192454 ,  2.03868954],\n",
       "       [ 0.51728674,  3.33077331],\n",
       "       [ 1.30993441,  2.55937406],\n",
       "       [ 3.20155769,  6.24562003],\n",
       "       [ 3.2929879 ,  3.93346941],\n",
       "       [ 1.81269724,  3.58198634],\n",
       "       [ 4.24152099,  5.85020034],\n",
       "       [ 4.11962753,  6.93938561],\n",
       "       [ 2.91226251,  3.80001346],\n",
       "       [ 5.88172547,  5.98164883],\n",
       "       [ 3.13407836,  4.23604428],\n",
       "       [ 0.42178167,  2.5363331 ],\n",
       "       [ 5.16849519,  6.34666094],\n",
       "       [ 3.72070193,  5.59614238],\n",
       "       [ 5.18200256,  4.99734479],\n",
       "       [ 1.16746733,  3.77137798],\n",
       "       [ 1.5939782 ,  2.36663853],\n",
       "       [ 1.84150316,  3.23737658],\n",
       "       [ 1.90728395,  2.8220057 ],\n",
       "       [ 2.85925358,  2.5159527 ],\n",
       "       [ 2.71350549,  2.15909859],\n",
       "       [ 2.26380838,  3.06860515],\n",
       "       [ 3.63929665,  8.03722921],\n",
       "       [ 4.52560835,  6.3742677 ],\n",
       "       [ 4.76457129,  5.78765277],\n",
       "       [ 1.08465709,  2.73252152],\n",
       "       [ 0.76742843,  3.05771848],\n",
       "       [ 5.66591316,  7.48703871],\n",
       "       [ 4.23753514,  4.72725253],\n",
       "       [ 5.62895252,  5.71175645],\n",
       "       [ 4.36154831,  7.20479192],\n",
       "       [ 1.60733355,  3.9625843 ],\n",
       "       [ 6.27044485,  4.55711126],\n",
       "       [ 1.78947833,  1.83655829],\n",
       "       [ 5.58016668,  4.60116999],\n",
       "       [ 1.27200344,  3.6052947 ],\n",
       "       [ 1.96918494,  2.56152938],\n",
       "       [ 5.12215657,  7.46091297],\n",
       "       [ 1.92197556,  3.00244367],\n",
       "       [ 4.29698585,  5.30566642],\n",
       "       [ 0.94093694,  4.51272804],\n",
       "       [ 4.75770589,  5.63387026],\n",
       "       [ 2.8641513 ,  6.91473386],\n",
       "       [ 4.49964635,  6.45574449],\n",
       "       [ 2.66900897,  2.11526886],\n",
       "       [ 2.03738966,  2.35598339],\n",
       "       [ 2.63661509,  3.01718999],\n",
       "       [ 1.61963151,  1.83023965],\n",
       "       [ 1.97903199,  2.86501844],\n",
       "       [ 5.82887957,  7.67211474],\n",
       "       [ 1.80623796,  2.48223114],\n",
       "       [ 5.31335924,  7.63644617],\n",
       "       [ 2.95930591,  4.16762357],\n",
       "       [ 4.53625181,  5.38061797],\n",
       "       [ 5.80224225,  7.46759927],\n",
       "       [ 3.24077666,  3.27948844],\n",
       "       [ 5.96971467,  5.52329059],\n",
       "       [ 4.8203809 ,  1.55774464],\n",
       "       [ 6.98155483,  5.08898943],\n",
       "       [ 5.5777451 ,  5.14570101],\n",
       "       [ 4.0069098 ,  4.68741298],\n",
       "       [ 5.29313519,  6.98762171],\n",
       "       [ 2.65662171,  2.96665242],\n",
       "       [ 2.38109338,  1.88058698],\n",
       "       [ 4.33877701,  7.10437679],\n",
       "       [ 1.38035997,  4.01401494],\n",
       "       [ 4.9115021 ,  5.69446718],\n",
       "       [ 4.99265255,  7.0365288 ],\n",
       "       [ 1.78285867,  4.21733609],\n",
       "       [ 6.13054929,  5.39375472],\n",
       "       [ 4.52705373,  5.18330433],\n",
       "       [ 2.37225156,  1.34699763],\n",
       "       [ 2.04689077,  3.42886337],\n",
       "       [ 4.01274339,  9.68906858],\n",
       "       [ 5.53667594,  7.16624382],\n",
       "       [-0.71245867,  2.36631427],\n",
       "       [ 2.28367477,  3.06853983],\n",
       "       [ 1.53279264,  2.87037748],\n",
       "       [ 3.30036233,  6.12931465],\n",
       "       [ 0.43831288,  0.88257717],\n",
       "       [ 2.46238683,  2.66603435],\n",
       "       [ 1.37709619,  2.54286285],\n",
       "       [ 3.19249926,  6.43867262],\n",
       "       [ 1.94735695,  2.95376207],\n",
       "       [ 6.34919866,  5.65552473],\n",
       "       [ 3.35595272,  2.22750158],\n",
       "       [ 4.55789486,  6.48533203],\n",
       "       [ 5.37501491,  3.73428733],\n",
       "       [ 5.89973678,  4.901936  ],\n",
       "       [ 6.79657187,  6.68674308],\n",
       "       [ 5.74062635,  5.5540758 ],\n",
       "       [ 4.26695103,  6.85921097],\n",
       "       [ 5.40621706,  5.44907457],\n",
       "       [ 4.09089894,  7.40745859],\n",
       "       [ 6.51609166,  7.43348419],\n",
       "       [ 6.14574959,  7.52555883],\n",
       "       [ 5.49079675,  5.56013702],\n",
       "       [-1.22253947,  3.01319646],\n",
       "       [ 3.96856696,  4.47058322],\n",
       "       [ 0.32404795,  1.67109995],\n",
       "       [ 5.34294313,  4.09691917],\n",
       "       [ 6.17707487,  7.19903975],\n",
       "       [ 3.81170665,  6.83906321],\n",
       "       [ 6.3129473 ,  4.88392519],\n",
       "       [ 1.34841476,  1.91262699],\n",
       "       [ 4.90347695,  2.40067856],\n",
       "       [ 3.42300874,  5.00925703],\n",
       "       [ 1.87166313,  2.9058252 ],\n",
       "       [ 2.61537278,  5.87743474],\n",
       "       [ 5.05869474,  6.44918108],\n",
       "       [ 1.56203995,  1.59754505],\n",
       "       [ 1.46862109,  2.55976523],\n",
       "       [ 2.17265409,  3.87127496],\n",
       "       [ 5.0625756 ,  4.6188972 ],\n",
       "       [ 4.70333752,  5.69532726],\n",
       "       [ 2.01920219,  4.57231625],\n",
       "       [ 2.11826852,  4.11566379],\n",
       "       [ 2.1955734 ,  2.5450873 ],\n",
       "       [ 2.87789957,  4.19439655],\n",
       "       [ 1.38639671,  1.75872233],\n",
       "       [ 1.1141321 ,  3.09363492],\n",
       "       [ 3.00328222,  6.72884204],\n",
       "       [ 6.62265789,  5.44366375],\n",
       "       [ 5.1927878 ,  6.34895878],\n",
       "       [ 4.72433584,  8.08318128],\n",
       "       [ 2.09973955,  4.60918281],\n",
       "       [ 5.02519788,  7.38747298],\n",
       "       [ 1.15152472,  3.09557323],\n",
       "       [ 3.16934598,  6.09025451],\n",
       "       [ 5.3439053 ,  5.71407712],\n",
       "       [ 1.98270478,  1.30598581],\n",
       "       [ 2.67999412,  2.86756462],\n",
       "       [ 6.20482413,  6.16110447],\n",
       "       [ 6.50050629,  6.05746827],\n",
       "       [ 1.63461141,  3.03525981],\n",
       "       [ 7.19157626,  5.78383395],\n",
       "       [ 4.52184988,  8.82911314],\n",
       "       [ 3.9404661 ,  5.28167312],\n",
       "       [ 0.97699003,  2.54009315],\n",
       "       [ 4.68911611,  6.90991986],\n",
       "       [ 3.17571435,  4.23432858],\n",
       "       [ 1.84754254,  3.80526095],\n",
       "       [ 5.18891789,  6.48699708],\n",
       "       [ 1.71485458,  2.56298937],\n",
       "       [ 6.4090389 ,  7.17464294],\n",
       "       [ 0.79324138,  2.50929102],\n",
       "       [ 0.77399367,  3.74426005],\n",
       "       [ 4.87347358,  6.70199542],\n",
       "       [ 5.38595035,  7.58259389],\n",
       "       [ 4.94807718,  4.63111875],\n",
       "       [ 4.2029612 ,  7.16010492],\n",
       "       [ 6.57340719,  5.45401485],\n",
       "       [ 2.84831398,  3.07122202],\n",
       "       [ 1.79985335,  5.97128786],\n",
       "       [ 2.378043  ,  0.75930693],\n",
       "       [ 3.83350154,  5.51717759],\n",
       "       [ 7.36074426,  5.60427529],\n",
       "       [ 6.10852536,  8.0452265 ],\n",
       "       [ 5.69316111,  6.70993053],\n",
       "       [ 4.98624376,  5.38152041],\n",
       "       [ 0.67042679,  4.39907364],\n",
       "       [ 4.79947855,  8.39306181],\n",
       "       [ 6.06348046,  5.75172094],\n",
       "       [ 5.24114694,  5.73171838],\n",
       "       [ 2.21395269,  2.86596215],\n",
       "       [ 1.33563499,  3.15827994],\n",
       "       [ 5.36431513,  4.29017612],\n",
       "       [-0.02178817,  3.57688023],\n",
       "       [ 3.19172281,  6.16073994],\n",
       "       [ 4.71117872,  6.12069747],\n",
       "       [ 5.69134868,  5.58831461],\n",
       "       [ 2.6912712 ,  1.25583782],\n",
       "       [ 7.17031486,  5.3676576 ],\n",
       "       [ 0.59011281,  2.75557144],\n",
       "       [ 6.13047312,  5.82601222],\n",
       "       [ 0.95403928,  2.80700534],\n",
       "       [ 4.17975852,  5.80662061],\n",
       "       [ 3.67465877,  2.83352184],\n",
       "       [ 3.68309117,  3.4726013 ],\n",
       "       [ 3.85414285,  3.10526303],\n",
       "       [ 4.6512531 ,  6.8342214 ],\n",
       "       [-0.03191144,  3.30826614],\n",
       "       [ 0.46480518,  2.80236833],\n",
       "       [ 0.63861582,  4.28422887],\n",
       "       [ 4.98921454,  6.64742424],\n",
       "       [ 2.3688002 ,  2.48343509],\n",
       "       [ 1.01352379,  3.19072192],\n",
       "       [ 0.70600961,  2.65713348],\n",
       "       [ 2.41750491,  5.89738338],\n",
       "       [ 3.33641757,  5.38237596],\n",
       "       [ 0.90239234,  1.73435822],\n",
       "       [ 3.7728163 ,  7.11070273],\n",
       "       [ 1.62700763,  4.08011296],\n",
       "       [ 1.39877525,  1.86367484],\n",
       "       [ 3.20270871,  3.4410851 ],\n",
       "       [ 1.80121746,  3.04547373],\n",
       "       [ 2.93730795,  1.10824137],\n",
       "       [ 0.93648455,  3.30652458],\n",
       "       [ 5.36684329,  7.93082218],\n",
       "       [ 4.09397845,  6.4641103 ],\n",
       "       [ 2.03394682,  2.96978803],\n",
       "       [ 6.57987313,  5.99117114],\n",
       "       [ 7.00911014,  5.30776872],\n",
       "       [ 1.0862875 ,  3.46507441],\n",
       "       [-0.73490829,  2.26677827],\n",
       "       [ 5.24761386,  6.1171618 ],\n",
       "       [ 5.41104695,  4.43810945],\n",
       "       [ 3.94494761,  1.82259616],\n",
       "       [ 3.49563904,  7.36044788]])"
      ]
     },
     "execution_count": 41,
     "metadata": {},
     "output_type": "execute_result"
    }
   ],
   "source": [
    "X_te"
   ]
  },
  {
   "cell_type": "code",
   "execution_count": 47,
   "id": "6bd34aa9-b380-4ea7-a1f8-7b0b234476f5",
   "metadata": {},
   "outputs": [],
   "source": [
    "from sklearn.metrics import accuracy_score, confusion_matrix, classification_report"
   ]
  },
  {
   "cell_type": "code",
   "execution_count": 48,
   "id": "b86893a8-6dce-4c3c-a9ad-7d3b5580a6af",
   "metadata": {},
   "outputs": [
    {
     "data": {
      "text/plain": [
       "0.972"
      ]
     },
     "execution_count": 48,
     "metadata": {},
     "output_type": "execute_result"
    }
   ],
   "source": [
    "accuracy_score(y_te, y_pred)"
   ]
  },
  {
   "cell_type": "code",
   "execution_count": 49,
   "id": "941ebf66-233c-46cf-8620-8ca287f44c6b",
   "metadata": {
    "scrolled": true
   },
   "outputs": [
    {
     "data": {
      "text/plain": [
       "array([[121,   2],\n",
       "       [  5, 122]], dtype=int64)"
      ]
     },
     "execution_count": 49,
     "metadata": {},
     "output_type": "execute_result"
    }
   ],
   "source": [
    "confusion_matrix(y_te, y_pred)"
   ]
  },
  {
   "cell_type": "code",
   "execution_count": 50,
   "id": "0fc399ab-78b4-401d-8c1d-aa66b0c51e38",
   "metadata": {
    "scrolled": true
   },
   "outputs": [
    {
     "name": "stdout",
     "output_type": "stream",
     "text": [
      "              precision    recall  f1-score   support\n",
      "\n",
      "           0       0.96      0.98      0.97       123\n",
      "           1       0.98      0.96      0.97       127\n",
      "\n",
      "    accuracy                           0.97       250\n",
      "   macro avg       0.97      0.97      0.97       250\n",
      "weighted avg       0.97      0.97      0.97       250\n",
      "\n"
     ]
    }
   ],
   "source": [
    "print(classification_report(y_te, y_pred))"
   ]
  },
  {
   "cell_type": "code",
   "execution_count": 53,
   "id": "69082a2a-3128-4b1f-a3b1-a6a5b18af1a5",
   "metadata": {},
   "outputs": [],
   "source": [
    "from sklearn.datasets import make_regression"
   ]
  },
  {
   "cell_type": "code",
   "execution_count": 64,
   "id": "c99290d4-acdf-4c4a-9ad6-6c0b4d0d6953",
   "metadata": {},
   "outputs": [],
   "source": [
    "reg_data = make_regression(n_samples=100, n_features=2, n_targets=1, noise=3)"
   ]
  },
  {
   "cell_type": "code",
   "execution_count": 65,
   "id": "d080a116-10c8-46c2-bc28-b7104a82158c",
   "metadata": {},
   "outputs": [
    {
     "data": {
      "text/plain": [
       "(array([[-0.70179861,  0.19439142],\n",
       "        [-0.18323456,  0.684248  ],\n",
       "        [-0.28472398, -1.05135655],\n",
       "        [ 0.3095644 ,  0.84409455],\n",
       "        [ 0.22608055,  0.23468554],\n",
       "        [ 0.92110496, -0.0178352 ],\n",
       "        [-1.22536057,  1.99421947],\n",
       "        [-0.83975976,  0.68708335],\n",
       "        [ 1.78991691, -0.41539002],\n",
       "        [ 0.73366128, -0.5650765 ],\n",
       "        [-0.65532628,  0.48317876],\n",
       "        [ 1.22005222, -1.69150608],\n",
       "        [-0.41853141,  0.38724049],\n",
       "        [ 2.78192342, -0.8801185 ],\n",
       "        [ 1.58852825, -0.77326967],\n",
       "        [-1.86892363,  0.28552514],\n",
       "        [ 1.97577704,  0.41219205],\n",
       "        [-0.12592271, -1.53614952],\n",
       "        [ 0.01037682,  1.18466146],\n",
       "        [ 0.62196447,  2.14874196],\n",
       "        [ 1.06429931, -0.54255706],\n",
       "        [-1.45147157, -0.03472763],\n",
       "        [-0.19407927,  0.12516548],\n",
       "        [-0.08404991,  0.96845209],\n",
       "        [ 0.543294  ,  1.02078199],\n",
       "        [-0.14943551, -0.07169391],\n",
       "        [ 0.96182544, -0.01778306],\n",
       "        [-0.33520705, -1.52020639],\n",
       "        [-1.31832178, -0.53962632],\n",
       "        [-0.48709027,  0.66051284],\n",
       "        [-0.18167196,  0.40586421],\n",
       "        [ 2.20567211, -0.56347778],\n",
       "        [ 0.04322396,  0.1081458 ],\n",
       "        [ 0.00449056, -0.99632377],\n",
       "        [ 1.22246272, -0.96121224],\n",
       "        [ 0.66695544, -0.89964014],\n",
       "        [-1.60808262,  2.85301221],\n",
       "        [ 3.10370774, -0.7465834 ],\n",
       "        [-0.68114044, -0.72495922],\n",
       "        [-1.08172278,  1.54625574],\n",
       "        [ 1.07393614,  0.96722736],\n",
       "        [-1.27451705,  2.46152078],\n",
       "        [-0.29137963,  0.48761923],\n",
       "        [-0.85464169, -1.32071993],\n",
       "        [ 1.17498205,  0.39597639],\n",
       "        [-0.74715818,  0.06844585],\n",
       "        [ 0.43581489, -0.82923388],\n",
       "        [-0.35439227,  0.86249976],\n",
       "        [ 1.7288758 ,  1.60410887],\n",
       "        [ 0.0376893 ,  1.16925183],\n",
       "        [ 0.88501682, -0.87382142],\n",
       "        [ 0.2237223 , -0.1310034 ],\n",
       "        [-0.65895176,  0.41907203],\n",
       "        [-1.34684638,  0.27935774],\n",
       "        [ 0.06989762,  0.87238063],\n",
       "        [-0.8431777 ,  1.46849899],\n",
       "        [-0.82080736,  0.02727926],\n",
       "        [-0.03880318,  0.76762243],\n",
       "        [-2.24405059,  0.49312739],\n",
       "        [ 0.67579072, -0.98545652],\n",
       "        [-1.18198331,  0.26415797],\n",
       "        [-0.57449119, -0.45145899],\n",
       "        [ 1.96122392, -0.2669146 ],\n",
       "        [ 0.26714471, -0.126897  ],\n",
       "        [-1.13472062,  0.86769366],\n",
       "        [-2.18824352, -1.38355315],\n",
       "        [ 2.06677651,  0.31171443],\n",
       "        [-0.84699823, -0.06305232],\n",
       "        [-0.22987849, -0.87991527],\n",
       "        [-0.42971502, -0.0491069 ],\n",
       "        [-1.76831441, -1.36651329],\n",
       "        [-1.24947857, -0.15300728],\n",
       "        [-1.74614917, -0.45106141],\n",
       "        [ 1.65379224,  0.52863906],\n",
       "        [-0.70465494, -1.29923078],\n",
       "        [-0.87471253, -1.09540098],\n",
       "        [ 2.28128919, -0.01852306],\n",
       "        [-0.33321095,  1.47538952],\n",
       "        [-1.47384469,  0.02162317],\n",
       "        [-0.22297032, -0.49913746],\n",
       "        [-0.30765491,  1.3835419 ],\n",
       "        [ 1.09763539, -0.36669538],\n",
       "        [ 1.02791781,  0.35328362],\n",
       "        [ 0.84090919, -0.52597483],\n",
       "        [-1.26459959,  0.67441633],\n",
       "        [ 0.59233419, -0.730038  ],\n",
       "        [ 0.54774991, -0.03474205],\n",
       "        [-0.03261389,  0.63930861],\n",
       "        [ 0.94394098,  0.14910776],\n",
       "        [-1.91966815, -0.94457444],\n",
       "        [ 0.06172836, -0.42727371],\n",
       "        [ 1.90466912, -2.03616954],\n",
       "        [-0.17834402,  0.18228242],\n",
       "        [ 0.48354338,  0.77248759],\n",
       "        [-0.32225677,  0.52105631],\n",
       "        [ 0.31080839,  0.50339326],\n",
       "        [-0.74941407,  0.56122782],\n",
       "        [-0.43061298,  0.34531408],\n",
       "        [ 0.24285131, -0.41612736],\n",
       "        [ 0.86957435, -1.07925716]]),\n",
       " array([-5.77252682e+01,  9.72717103e+00, -6.45615509e+01,  6.09276828e+01,\n",
       "         2.64732560e+01,  8.08275487e+01, -4.24118762e+01, -5.33123375e+01,\n",
       "         1.48642401e+02,  4.57680527e+01, -4.54716236e+01,  4.65427546e+01,\n",
       "        -2.41954310e+01,  2.22058753e+02,  1.16453994e+02, -1.59741370e+02,\n",
       "         1.96655401e+02, -6.70169310e+01,  4.72094282e+01,  1.32881929e+02,\n",
       "         7.40394128e+01, -1.33909486e+02, -1.45239215e+01,  2.69958128e+01,\n",
       "         8.81797938e+01, -1.39650604e+01,  8.87370926e+01, -8.51418126e+01,\n",
       "        -1.39855214e+02, -1.98411962e+01, -3.44958427e+00,  1.76300406e+02,\n",
       "         8.89865676e+00, -3.16436214e+01,  8.05304191e+01,  2.79568487e+01,\n",
       "        -4.41579646e+01,  2.57044291e+02, -8.83037495e+01, -4.34771120e+01,\n",
       "         1.35259064e+02, -2.47035921e+01, -1.26384101e+01, -1.24334042e+02,\n",
       "         1.19408412e+02, -6.59628695e+01,  5.64499742e+00, -3.81836642e-02,\n",
       "         2.20789189e+02,  4.82084762e+01,  4.73693434e+01,  1.70297015e+01,\n",
       "        -4.45584626e+01, -1.12967210e+02,  3.64936773e+01, -2.77640023e+01,\n",
       "        -7.42992227e+01,  2.43973369e+01, -1.85825596e+02,  2.84291620e+01,\n",
       "        -9.30943963e+01, -6.87433015e+01,  1.67150892e+02,  1.92305477e+01,\n",
       "        -6.84788768e+01, -2.54035913e+02,  2.05560034e+02, -8.28427333e+01,\n",
       "        -5.35333570e+01, -4.10335543e+01, -2.12871052e+02, -1.19991479e+02,\n",
       "        -1.78068660e+02,  1.70435345e+02, -1.09858541e+02, -1.19407275e+02,\n",
       "         2.08393091e+02,  2.16182934e+01, -1.33087666e+02, -4.19928505e+01,\n",
       "         1.95072889e+01,  8.90128750e+01,  1.07173574e+02,  5.72790985e+01,\n",
       "        -9.53991768e+01,  2.93541260e+01,  4.93945400e+01,  2.15134627e+01,\n",
       "         9.18272739e+01, -2.08066368e+02, -1.32493528e+01,  1.04157163e+02,\n",
       "        -1.39539222e+01,  7.48921378e+01, -1.07639407e+01,  4.99235962e+01,\n",
       "        -5.16918516e+01, -2.94967662e+01,  1.26853451e+01,  4.09888015e+01]))"
      ]
     },
     "execution_count": 65,
     "metadata": {},
     "output_type": "execute_result"
    }
   ],
   "source": [
    "reg_data"
   ]
  },
  {
   "cell_type": "code",
   "execution_count": 66,
   "id": "4124a083-c2a6-4bfb-bfe8-6b9b5680019b",
   "metadata": {},
   "outputs": [],
   "source": [
    "X1 = reg_data[0]\n",
    "y1 = reg_data[1]"
   ]
  },
  {
   "cell_type": "code",
   "execution_count": 68,
   "id": "4718b215-b103-40f7-83e3-162311a3dac6",
   "metadata": {},
   "outputs": [
    {
     "data": {
      "image/png": "[encoded data removed]",
      "text/plain": [
       "<Figure size 640x480 with 1 Axes>"
      ]
     },
     "metadata": {},
     "output_type": "display_data"
    }
   ],
   "source": [
    "plt.scatter(X1[:,0], y1)\n",
    "plt.scatter(X1[:,1], y1)\n",
    "plt.show()"
   ]
  },
  {
   "cell_type": "code",
   "execution_count": null,
   "id": "e0d85ef0-5c73-44f5-96ae-7c3f3204bc54",
   "metadata": {},
   "outputs": [],
   "source": []
  },
  {
   "cell_type": "code",
   "execution_count": null,
   "id": "99ba1230-4c2d-4b51-9307-cdae20b3e42e",
   "metadata": {},
   "outputs": [],
   "source": []
  }
 ],
 "metadata": {
  "kernelspec": {
   "display_name": "Python 3 (ipykernel)",
   "language": "python",
   "name": "python3"
  },
  "language_info": {
   "codemirror_mode": {
    "name": "ipython",
    "version": 3
   },
   "file_extension": ".py",
   "mimetype": "text/x-python",
   "name": "python",
   "nbconvert_exporter": "python",
   "pygments_lexer": "ipython3",
   "version": "3.12.0"
  }
 },
 "nbformat": 4,
 "nbformat_minor": 5
}
